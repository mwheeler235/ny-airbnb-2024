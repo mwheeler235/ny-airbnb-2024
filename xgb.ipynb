{
 "cells": [
  {
   "cell_type": "code",
   "execution_count": 1,
   "id": "c07e8f8f-46b3-4efb-8fff-a3ca8762bdd1",
   "metadata": {},
   "outputs": [],
   "source": [
    "# import findspark\n",
    "# findspark.init()\n",
    "# findspark.find()\n",
    "# import pyspark\n",
    "# findspark.find()\n",
    "\n",
    "# spark libs\n",
    "# import functools\n",
    "# from functools import reduce, partial\n",
    "# from pyspark.sql.types import *\n",
    "# from pyspark.sql import DataFrame\n",
    "# import pyspark.sql.functions as f\n",
    "# from pyspark.sql.functions import *\n",
    "# from pyspark.sql.functions import isnan, when, count, col, row_number\n",
    "# from pyspark.sql.window import Window\n",
    "# from pyspark.sql import SparkSession\n",
    "\n",
    "# spark = SparkSession.builder.appName('mateo').getOrCreate()"
   ]
  },
  {
   "cell_type": "code",
   "execution_count": 2,
   "id": "33a5381d-bfa8-4629-b829-17c98f4b058c",
   "metadata": {},
   "outputs": [],
   "source": [
    "import pandas as pd\n",
    "import numpy as np\n",
    "from io import BytesIO\n",
    "import datetime\n",
    "import time\n",
    "import logging\n",
    "import os\n",
    "import re\n",
    "import seaborn as sns\n",
    "import matplotlib.pyplot as plt\n",
    "import xgboost as xgb\n",
    "from sklearn.metrics import confusion_matrix, accuracy_score, ConfusionMatrixDisplay, RocCurveDisplay, roc_curve, precision_score, recall_score, f1_score, mean_squared_error, r2_score\n",
    "from sklearn.model_selection import GridSearchCV\n",
    "\n",
    "from sklearn.model_selection import cross_val_score, train_test_split\n",
    "import shap\n",
    "\n",
    "pd.set_option('display.max_columns', None)"
   ]
  },
  {
   "cell_type": "code",
   "execution_count": 3,
   "id": "0dea6cd0-b709-4d1f-a50e-859cba827fae",
   "metadata": {},
   "outputs": [],
   "source": [
    "df = pd.read_csv('csv/new_york_listings_2024.csv')"
   ]
  },
  {
   "cell_type": "code",
   "execution_count": 4,
   "id": "3d87b44d-7384-4786-b855-0aae1572d5d2",
   "metadata": {},
   "outputs": [
    {
     "data": {
      "text/plain": [
       "id                                  int64\n",
       "name                               object\n",
       "host_id                             int64\n",
       "host_name                          object\n",
       "neighbourhood_group                object\n",
       "neighbourhood                      object\n",
       "latitude                          float64\n",
       "longitude                         float64\n",
       "room_type                          object\n",
       "price                             float64\n",
       "minimum_nights                      int64\n",
       "number_of_reviews                   int64\n",
       "last_review                        object\n",
       "reviews_per_month                 float64\n",
       "calculated_host_listings_count      int64\n",
       "availability_365                    int64\n",
       "number_of_reviews_ltm               int64\n",
       "license                            object\n",
       "rating                             object\n",
       "bedrooms                           object\n",
       "beds                                int64\n",
       "baths                              object\n",
       "dtype: object"
      ]
     },
     "execution_count": 4,
     "metadata": {},
     "output_type": "execute_result"
    }
   ],
   "source": [
    "df.dtypes"
   ]
  },
  {
   "cell_type": "code",
   "execution_count": 5,
   "id": "b78bb0b9-a610-4c58-acdb-9ea6e143a1dd",
   "metadata": {},
   "outputs": [],
   "source": [
    "df['rating'] = df['rating'].replace('No rating', np.nan).replace('New ', np.nan).astype(float)\n",
    "df['number_of_reviews'] = df['number_of_reviews'].astype(float)"
   ]
  },
  {
   "cell_type": "code",
   "execution_count": 6,
   "id": "a19e7a78-6bcd-4ee6-b838-b7afde563d87",
   "metadata": {},
   "outputs": [
    {
     "data": {
      "text/html": [
       "<div>\n",
       "<style scoped>\n",
       "    .dataframe tbody tr th:only-of-type {\n",
       "        vertical-align: middle;\n",
       "    }\n",
       "\n",
       "    .dataframe tbody tr th {\n",
       "        vertical-align: top;\n",
       "    }\n",
       "\n",
       "    .dataframe thead th {\n",
       "        text-align: right;\n",
       "    }\n",
       "</style>\n",
       "<table border=\"1\" class=\"dataframe\">\n",
       "  <thead>\n",
       "    <tr style=\"text-align: right;\">\n",
       "      <th></th>\n",
       "      <th>room_type</th>\n",
       "      <th>host_id</th>\n",
       "      <th>id</th>\n",
       "      <th>number_of_reviews</th>\n",
       "      <th>rating</th>\n",
       "    </tr>\n",
       "  </thead>\n",
       "  <tbody>\n",
       "    <tr>\n",
       "      <th>0</th>\n",
       "      <td>Entire home/apt</td>\n",
       "      <td>7720</td>\n",
       "      <td>11549</td>\n",
       "      <td>39.534678</td>\n",
       "      <td>4.752060</td>\n",
       "    </tr>\n",
       "    <tr>\n",
       "      <th>1</th>\n",
       "      <td>Hotel room</td>\n",
       "      <td>25</td>\n",
       "      <td>112</td>\n",
       "      <td>57.696429</td>\n",
       "      <td>4.540115</td>\n",
       "    </tr>\n",
       "    <tr>\n",
       "      <th>2</th>\n",
       "      <td>Private room</td>\n",
       "      <td>5103</td>\n",
       "      <td>8804</td>\n",
       "      <td>46.303839</td>\n",
       "      <td>4.716090</td>\n",
       "    </tr>\n",
       "    <tr>\n",
       "      <th>3</th>\n",
       "      <td>Shared room</td>\n",
       "      <td>227</td>\n",
       "      <td>293</td>\n",
       "      <td>49.378840</td>\n",
       "      <td>4.648590</td>\n",
       "    </tr>\n",
       "  </tbody>\n",
       "</table>\n",
       "</div>"
      ],
      "text/plain": [
       "         room_type  host_id     id  number_of_reviews    rating\n",
       "0  Entire home/apt     7720  11549          39.534678  4.752060\n",
       "1       Hotel room       25    112          57.696429  4.540115\n",
       "2     Private room     5103   8804          46.303839  4.716090\n",
       "3      Shared room      227    293          49.378840  4.648590"
      ]
     },
     "execution_count": 6,
     "metadata": {},
     "output_type": "execute_result"
    }
   ],
   "source": [
    "df.groupby('room_type')\\\n",
    "    .agg({'host_id':'nunique', \n",
    "          'id':'nunique', \n",
    "          'number_of_reviews':'mean',\n",
    "          'rating':'mean'})\\\n",
    "    .reset_index()"
   ]
  },
  {
   "cell_type": "code",
   "execution_count": 7,
   "id": "e7dee057-ae1e-4d64-b75a-082633461e61",
   "metadata": {},
   "outputs": [
    {
     "data": {
      "text/html": [
       "<div>\n",
       "<style scoped>\n",
       "    .dataframe tbody tr th:only-of-type {\n",
       "        vertical-align: middle;\n",
       "    }\n",
       "\n",
       "    .dataframe tbody tr th {\n",
       "        vertical-align: top;\n",
       "    }\n",
       "\n",
       "    .dataframe thead th {\n",
       "        text-align: right;\n",
       "    }\n",
       "</style>\n",
       "<table border=\"1\" class=\"dataframe\">\n",
       "  <thead>\n",
       "    <tr style=\"text-align: right;\">\n",
       "      <th></th>\n",
       "      <th>rating_gt_four_point_eight</th>\n",
       "      <th>host_id</th>\n",
       "      <th>id</th>\n",
       "      <th>number_of_reviews</th>\n",
       "      <th>rating</th>\n",
       "    </tr>\n",
       "  </thead>\n",
       "  <tbody>\n",
       "    <tr>\n",
       "      <th>0</th>\n",
       "      <td>0</td>\n",
       "      <td>6703</td>\n",
       "      <td>11719</td>\n",
       "      <td>35.679666</td>\n",
       "      <td>4.521569</td>\n",
       "    </tr>\n",
       "    <tr>\n",
       "      <th>1</th>\n",
       "      <td>1</td>\n",
       "      <td>6889</td>\n",
       "      <td>9039</td>\n",
       "      <td>51.669986</td>\n",
       "      <td>4.921714</td>\n",
       "    </tr>\n",
       "  </tbody>\n",
       "</table>\n",
       "</div>"
      ],
      "text/plain": [
       "   rating_gt_four_point_eight  host_id     id  number_of_reviews    rating\n",
       "0                           0     6703  11719          35.679666  4.521569\n",
       "1                           1     6889   9039          51.669986  4.921714"
      ]
     },
     "execution_count": 7,
     "metadata": {},
     "output_type": "execute_result"
    }
   ],
   "source": [
    "df['rating_gt_four_point_eight'] = np.where(df.rating>=4.8, 1, 0)\n",
    "\n",
    "df.groupby('rating_gt_four_point_eight')\\\n",
    "    .agg({'host_id':'nunique', \n",
    "          'id':'nunique', \n",
    "          'number_of_reviews':'mean',\n",
    "          'rating':'mean'})\\\n",
    "    .reset_index()"
   ]
  },
  {
   "cell_type": "code",
   "execution_count": 8,
   "id": "07993606-c00d-4782-805a-67cddfb22e2c",
   "metadata": {},
   "outputs": [],
   "source": [
    "def preprocess(df, target, drop_cols, categorical_features, test_size):\n",
    "\n",
    "    # number of records per host_id\n",
    "    df_recs = df\\\n",
    "        .groupby('host_id')\\\n",
    "        .agg({'id':'nunique'})\\\n",
    "        .reset_index()\\\n",
    "        .rename(columns={'id':'count_recs'})\n",
    "\n",
    "    df2 = pd.merge(df, df_recs, on='host_id', how='left')\n",
    "    \n",
    "    # filter out hosts with null rating\n",
    "    df3 = df2[df2.rating.notnull()]\n",
    "    \n",
    "    print(f\"Summary of reduced host population for target='{target}' modeling (accounts w/ non-null rating) \\n\", df3.groupby(f'{target}').agg({'host_id':'count'}))\n",
    "\n",
    "    # one hot encode categorical features\n",
    "    df_onehot = df3[categorical_features]\n",
    "    df_onehot = pd.get_dummies(df_onehot, columns = categorical_features)\n",
    "\n",
    "    # concat OHE features and numeric features; drop confounding features\n",
    "    df_onehot_drop = df3.drop(categorical_features, axis = 1)\n",
    "    df_features = pd.concat([df_onehot_drop, df_onehot], axis = 1).drop(columns=drop_cols) \n",
    "\n",
    "    X = df_features.drop(columns=[f'{target}'])\n",
    "    y = df_features[f'{target}']\n",
    "\n",
    "    x_train, x_test, y_train, y_test = train_test_split(X, y, test_size=test_size, random_state=23)\n",
    "\n",
    "    print(f\"Test/Train split is using a test_size = {test_size}\")\n",
    "    print(f\"Summary of training data for event target='{target}' modeling \\n\", pd.DataFrame(y_train).value_counts())\n",
    "    print(f\"Summary of test (evaluation) data for event target='{target}' modeling \\n\",  pd.DataFrame(y_test).value_counts())\n",
    "\n",
    "    return x_train, x_test, y_train, y_test\n",
    "\n",
    "def train_optimize_lr(min_lr, max_lr, x_train, y_train, x_test, y_test, target):\n",
    "    # XGBoost (different learning rate)\n",
    "    learning_rate_range = np.arange(min_lr, 1, max_lr)\n",
    "    test_XG = [] \n",
    "    train_XG = []\n",
    "    for lr in learning_rate_range:\n",
    "        xgb_classifier = xgb.XGBClassifier(eta = lr)\n",
    "        xgb_classifier.fit(x_train, y_train)\n",
    "        train_XG.append(xgb_classifier.score(x_train, y_train))\n",
    "        test_XG.append(xgb_classifier.score(x_test, y_test))\n",
    "\n",
    "    fig = plt.figure(figsize=(10, 7))\n",
    "    plt.plot(learning_rate_range, train_XG, c='orange', label='Train')\n",
    "    plt.plot(learning_rate_range, test_XG, c='m', label='Test')\n",
    "    plt.xlabel('Learning rate')\n",
    "    plt.xticks(learning_rate_range)\n",
    "    plt.ylabel('Accuracy score')\n",
    "    plt.ylim(0.6, 1)\n",
    "    plt.legend(prop={'size': 12}, loc=3)\n",
    "    plt.title(f'Accuracy score vs. Learning rate of XGBoost for Target: {target}', size=14)\n",
    "    plt.show()\n",
    "\n",
    "def param_grid_search(x_train, y_train, target, eval_metric):\n",
    "\n",
    "    # Define the parameter grid\n",
    "    param_grid = {\n",
    "        'n_estimators': [200, 300, 400],\n",
    "        'max_depth': [2, 3, 4],\n",
    "        'learning_rate': [0.1, 0.15, 0.18, 0.2],\n",
    "        'scale_pos_weight': [1, 2, 4, 6],\n",
    "        'reg_lambda': [0.01, 0.1, 0.5, 1]\n",
    "    }\n",
    "    \n",
    "    # Initialize XGBoost classifier\n",
    "    xgb_model = xgb.XGBClassifier(random_state=56)\n",
    "    \n",
    "    # Initialize GridSearchCV\n",
    "    grid_search = GridSearchCV(estimator=xgb_model, param_grid=param_grid, cv=3, scoring=eval_metric)\n",
    "    \n",
    "    # Fit GridSearchCV\n",
    "    grid_search.fit(x_train, y_train)\n",
    "\n",
    "    best_params = grid_search.best_params_\n",
    "    \n",
    "    # Print the best parameters and score\n",
    "    print(f\"Best parameters for target='{target}':\", best_params)\n",
    "    print(f\"Best score for target='{target}':\", grid_search.best_score_)\n",
    "    \n",
    "    # Get the best estimator\n",
    "    best_xgb = grid_search.best_estimator_\n",
    "    \n",
    "    # Make predictions using the best estimator\n",
    "    predictions = best_xgb.predict(x_train)\n",
    "\n",
    "    return best_params\n",
    "\n",
    "def evaluate_model_performance(best_params, x_train, y_train, x_test, y_test, target):\n",
    "    # Final model\n",
    "    xgb_classifier = xgb.XGBClassifier(**best_params)\n",
    "\n",
    "    xgb_classifier.fit(x_train, y_train)\n",
    "    \n",
    "    # score test set with best model\n",
    "    xgb_classifier.score(x_test, y_test)\n",
    "\n",
    "    # Make predictions on the test set\n",
    "    y_pred = xgb_classifier.predict(x_test)\n",
    "\n",
    "    print(f\"Evaluation Metrics for XGboost model to predict Accounts with target='{target}'; \\n Best Parameters used: {best_params}: \\n\",\n",
    "          \"Accuracy: {:.3f}\".format(accuracy_score(y_test, y_pred)),\n",
    "          \"\\n Recall: {:.3f}\".format(recall_score(y_test, y_pred)), \n",
    "          \"\\n Precision: {:.3f}\".format(precision_score(y_test, y_pred)),\n",
    "          \"\\n F1-Score: {:.3f}\".format(f1_score(y_test, y_pred))\n",
    "                                       )\n",
    "\n",
    "    # Calculate the confusion matrix\n",
    "    cm = confusion_matrix(y_test, y_pred)\n",
    "    \n",
    "    # Visualize the confusion matrix\n",
    "    sns.heatmap(cm, annot=True, fmt='d', cmap='Blues')\n",
    "    plt.xlabel('Predicted Labels')\n",
    "    plt.ylabel('True Labels')\n",
    "    plt.title(f\"Confusion Matrix - Target = '{target}'\")\n",
    "    plt.show()\n",
    "\n",
    "    return xgb_classifier"
   ]
  },
  {
   "cell_type": "code",
   "execution_count": 9,
   "id": "5d72071e-9ef0-4f5d-962a-a6fede289dfc",
   "metadata": {},
   "outputs": [
    {
     "name": "stdout",
     "output_type": "stream",
     "text": [
      "Summary of reduced host population for target='rating_gt_four_point_eight' modeling (accounts w/ non-null rating) \n",
      "                             host_id\n",
      "rating_gt_four_point_eight         \n",
      "0                              7967\n",
      "1                              9039\n",
      "Test/Train split is using a test_size = 0.2\n",
      "Summary of training data for event target='rating_gt_four_point_eight' modeling \n",
      " rating_gt_four_point_eight\n",
      "1                             7239\n",
      "0                             6365\n",
      "Name: count, dtype: int64\n",
      "Summary of test (evaluation) data for event target='rating_gt_four_point_eight' modeling \n",
      " rating_gt_four_point_eight\n",
      "1                             1800\n",
      "0                             1602\n",
      "Name: count, dtype: int64\n"
     ]
    }
   ],
   "source": [
    "x_train, x_test, y_train, y_test  = preprocess(df = df, \n",
    "                   target='rating_gt_four_point_eight', \n",
    "                   drop_cols=['name','host_name','last_review','license','rating','host_id','id'], \n",
    "                   categorical_features=['neighbourhood_group','neighbourhood','room_type','bedrooms','beds','baths'],\n",
    "                   test_size=0.2)"
   ]
  },
  {
   "cell_type": "markdown",
   "id": "6cbf6727-6922-4386-a7de-f5bd55184a1b",
   "metadata": {},
   "source": [
    "#### Grid Search to find best Hyperparameter values "
   ]
  },
  {
   "cell_type": "code",
   "execution_count": 10,
   "id": "025749ac-96fa-4a9b-8dd0-95b46961d0cb",
   "metadata": {},
   "outputs": [
    {
     "name": "stdout",
     "output_type": "stream",
     "text": [
      "Best parameters for target='rating_gt_four_point_eight': {'learning_rate': 0.2, 'max_depth': 3, 'n_estimators': 300, 'reg_lambda': 0.5, 'scale_pos_weight': 2}\n",
      "Best score for target='rating_gt_four_point_eight': 0.7242091256817306\n"
     ]
    },
    {
     "data": {
      "text/plain": [
       "{'learning_rate': 0.2,\n",
       " 'max_depth': 3,\n",
       " 'n_estimators': 300,\n",
       " 'reg_lambda': 0.5,\n",
       " 'scale_pos_weight': 2}"
      ]
     },
     "execution_count": 10,
     "metadata": {},
     "output_type": "execute_result"
    }
   ],
   "source": [
    "best_params = param_grid_search(x_train=x_train, y_train=y_train, target='rating_gt_four_point_eight', eval_metric='f1')\n",
    "best_params"
   ]
  },
  {
   "cell_type": "markdown",
   "id": "c2edbf67-4843-45a1-aa0d-8f873d2846ab",
   "metadata": {},
   "source": [
    "#### Score the Model: Predicting if a Airbnb Host is high rated (>= 4.8) based on listing features"
   ]
  },
  {
   "cell_type": "code",
   "execution_count": 11,
   "id": "2d397ab8-6903-4433-bc63-02a36edd0760",
   "metadata": {},
   "outputs": [
    {
     "name": "stdout",
     "output_type": "stream",
     "text": [
      "Evaluation Metrics for XGboost model to predict Accounts with target='rating_gt_four_point_eight'; \n",
      " Best Parameters used: {'learning_rate': 0.2, 'max_depth': 3, 'n_estimators': 300, 'reg_lambda': 0.5, 'scale_pos_weight': 2}: \n",
      " Accuracy: 0.622 \n",
      " Recall: 0.922 \n",
      " Precision: 0.592 \n",
      " F1-Score: 0.721\n"
     ]
    },
    {
     "data": {
      "image/png": "[encoded data removed]",
      "text/plain": [
       "<Figure size 640x480 with 2 Axes>"
      ]
     },
     "metadata": {},
     "output_type": "display_data"
    }
   ],
   "source": [
    "xgb_classifier = evaluate_model_performance(best_params = best_params, x_train=x_train, y_train=y_train, x_test=x_test, y_test=y_test, target='rating_gt_four_point_eight')"
   ]
  },
  {
   "cell_type": "markdown",
   "id": "925fee3d-07cf-4803-ba3d-91a95e2a04c1",
   "metadata": {},
   "source": [
    "#### Lower the scale_pos_weight value in an attempt to reduce False Positives"
   ]
  },
  {
   "cell_type": "code",
   "execution_count": 12,
   "id": "8ca63a5c-a5b9-4e8b-bffb-600edd69742f",
   "metadata": {},
   "outputs": [],
   "source": [
    "adj_params = {'learning_rate': 0.2,\n",
    " 'max_depth': 3,\n",
    " 'n_estimators': 300,\n",
    " 'reg_lambda': 0.5,\n",
    " 'scale_pos_weight': 0.75}"
   ]
  },
  {
   "cell_type": "code",
   "execution_count": 13,
   "id": "6cadd8c9-1522-4e65-a53d-bb5941986f85",
   "metadata": {},
   "outputs": [
    {
     "name": "stdout",
     "output_type": "stream",
     "text": [
      "Evaluation Metrics for XGboost model to predict Accounts with target='rating_gt_four_point_eight'; \n",
      " Best Parameters used: {'learning_rate': 0.2, 'max_depth': 3, 'n_estimators': 300, 'reg_lambda': 0.5, 'scale_pos_weight': 0.75}: \n",
      " Accuracy: 0.659 \n",
      " Recall: 0.607 \n",
      " Precision: 0.707 \n",
      " F1-Score: 0.653\n"
     ]
    },
    {
     "data": {
      "image/png": "[encoded data removed]",
      "text/plain": [
       "<Figure size 640x480 with 2 Axes>"
      ]
     },
     "metadata": {},
     "output_type": "display_data"
    }
   ],
   "source": [
    "xgb_classifier = evaluate_model_performance(best_params = adj_params, x_train=x_train, y_train=y_train, x_test=x_test, y_test=y_test, target='rating_gt_four_point_eight')"
   ]
  },
  {
   "cell_type": "markdown",
   "id": "5a5ba29a-d412-4c9a-bc47-f16cbb1577f6",
   "metadata": {},
   "source": [
    "#### Top Features"
   ]
  },
  {
   "cell_type": "code",
   "execution_count": null,
   "id": "032cd5de-9921-4378-9fd3-26111cca349a",
   "metadata": {},
   "outputs": [],
   "source": [
    "explainer = shap.TreeExplainer(xgb_classifier)\n",
    "shap_values = explainer.shap_values(x_test)\n",
    "shap.summary_plot(shap_values, x_test, plot_type=\"bar\")"
   ]
  },
  {
   "cell_type": "code",
   "execution_count": 14,
   "id": "e011ef2e-2f50-40cd-9fa6-aca559cbee43",
   "metadata": {},
   "outputs": [],
   "source": [
    "def simulate_overlap(n=1000):\n",
    "    overlap_perc = []\n",
    "    size = 10000\n",
    "    for i in range(0,n):\n",
    "        task1 = np.random.randint(0, 300, size = size)\n",
    "        task2 = np.random.randint(0, 300, size = size)\n",
    "        overlap = np.abs(np.subtract(task1,task2)) <=60\n",
    "        overlap_perc.append(len(task1[overlap])/size)\n",
    "    return overlap_perc\n",
    "\n",
    "cost = np.array(simulate_overlap()).mean() * 1000 * 365"
   ]
  },
  {
   "cell_type": "code",
   "execution_count": 15,
   "id": "34159ab9-7584-48d1-9bd9-54a56e8a37f0",
   "metadata": {},
   "outputs": [
    {
     "data": {
      "text/plain": [
       "np.float64(132400.246)"
      ]
     },
     "execution_count": 15,
     "metadata": {},
     "output_type": "execute_result"
    }
   ],
   "source": [
    "cost"
   ]
  },
  {
   "cell_type": "code",
   "execution_count": null,
   "id": "f6221690-3db3-4667-9c76-3d0fb85d6e73",
   "metadata": {},
   "outputs": [],
   "source": []
  }
 ],
 "metadata": {
  "kernelspec": {
   "display_name": "Python 3 (ipykernel)",
   "language": "python",
   "name": "python3"
  },
  "language_info": {
   "codemirror_mode": {
    "name": "ipython",
    "version": 3
   },
   "file_extension": ".py",
   "mimetype": "text/x-python",
   "name": "python",
   "nbconvert_exporter": "python",
   "pygments_lexer": "ipython3",
   "version": "3.9.6"
  }
 },
 "nbformat": 4,
 "nbformat_minor": 5
}
